{
 "cells": [
  {
   "cell_type": "code",
   "execution_count": 1,
   "id": "c503ea9a-5c79-4f58-9022-8eff9b7cda1e",
   "metadata": {},
   "outputs": [
    {
     "name": "stdin",
     "output_type": "stream",
     "text": [
      "Enter the original price of the item:  2000\n",
      "Enter the discount percentage:  20\n"
     ]
    },
    {
     "name": "stdout",
     "output_type": "stream",
     "text": [
      "The original price was: $2000.00\n",
      "After applying a discount of 20.0%, the final price is: $1600.00\n"
     ]
    }
   ],
   "source": [
    "def calculate_discount(price, discount_percent):\n",
    "    \"\"\"\n",
    "    Calculates the final price after applying the discount if the discount percentage\n",
    "    is 20% or higher. Otherwise, returns the original price.\n",
    "\n",
    "    Parameters:\n",
    "    - price (float): The original price of the item.\n",
    "    - discount_percent (float): The discount percentage.\n",
    "\n",
    "    Returns:\n",
    "    - float: The final price after applying the discount, or the original price if\n",
    "             the discount percentage is less than 20%.\n",
    "    \"\"\"\n",
    "    if discount_percent >= 20:\n",
    "        return price * (1 - discount_percent / 100)\n",
    "    return price\n",
    "\n",
    "# Main program\n",
    "try:\n",
    "    # Prompt for user input\n",
    "    original_price = float(input(\"Enter the original price of the item: \"))\n",
    "    discount_percentage = float(input(\"Enter the discount percentage: \"))\n",
    "\n",
    "    # Calculate and display the final price\n",
    "    final_price = calculate_discount(original_price, discount_percentage)\n",
    "\n",
    "    if discount_percentage >= 20:\n",
    "        print(f\"The original price was: ${original_price:.2f}\")\n",
    "        print(f\"After applying a discount of {discount_percentage}%, the final price is: ${final_price:.2f}\")\n",
    "    else:\n",
    "        print(f\"The discount is less than 20%. The price remains: ${original_price:.2f}\")\n",
    "\n",
    "except ValueError:\n",
    "    print(\"Invalid input! Please enter valid numbers for the price and discount percentage.\")\n"
   ]
  },
  {
   "cell_type": "code",
   "execution_count": null,
   "id": "2d2ddb9d-2bfa-4387-930c-0bcfb6dcde0a",
   "metadata": {},
   "outputs": [],
   "source": []
  }
 ],
 "metadata": {
  "kernelspec": {
   "display_name": "Python 3 (ipykernel)",
   "language": "python",
   "name": "python3"
  },
  "language_info": {
   "codemirror_mode": {
    "name": "ipython",
    "version": 3
   },
   "file_extension": ".py",
   "mimetype": "text/x-python",
   "name": "python",
   "nbconvert_exporter": "python",
   "pygments_lexer": "ipython3",
   "version": "3.11.7"
  }
 },
 "nbformat": 4,
 "nbformat_minor": 5
}
